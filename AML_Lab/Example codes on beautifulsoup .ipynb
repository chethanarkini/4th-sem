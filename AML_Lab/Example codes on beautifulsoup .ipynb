{
 "cells": [
  {
   "cell_type": "code",
   "execution_count": 35,
   "id": "f24bed42",
   "metadata": {},
   "outputs": [],
   "source": [
    "from bs4 import BeautifulSoup\n",
    "html_content = \"\"\" <html> \n",
    "<head> \n",
    "<title>Example</title> \n",
    "</head> <body> \n",
    "<p class=\"paragraph\">This is a paragraph.</p> \n",
    "<p class=\"paragraph\">This is a paragraph 2.</p> \n",
    "<ul> <li>Item 1</li>\n",
    " <li>Item 2</li> </ul> </body> </html> \"\"\"\n",
    "\n",
    "soup = BeautifulSoup(html_content, 'html.parser')\n"
   ]
  },
  {
   "cell_type": "code",
   "execution_count": 37,
   "id": "a086e1b0",
   "metadata": {},
   "outputs": [
    {
     "data": {
      "text/plain": [
       "'Example'"
      ]
     },
     "execution_count": 37,
     "metadata": {},
     "output_type": "execute_result"
    }
   ],
   "source": [
    "# To access the title of a specific tag\n",
    "title=soup.title\n",
    "title"
   ]
  },
  {
   "cell_type": "code",
   "execution_count": 7,
   "id": "36ea0815",
   "metadata": {},
   "outputs": [
    {
     "data": {
      "text/plain": [
       "'Example'"
      ]
     },
     "execution_count": 7,
     "metadata": {},
     "output_type": "execute_result"
    }
   ],
   "source": [
    "title=soup.title.text\n",
    "title"
   ]
  },
  {
   "cell_type": "code",
   "execution_count": 39,
   "id": "2c7949f2",
   "metadata": {},
   "outputs": [
    {
     "data": {
      "text/plain": [
       "'This is a paragraph.'"
      ]
     },
     "execution_count": 39,
     "metadata": {},
     "output_type": "execute_result"
    }
   ],
   "source": [
    "# paragraph tag\n",
    "para=soup.p\n",
    "para.text"
   ]
  },
  {
   "cell_type": "markdown",
   "id": "b0e964c5",
   "metadata": {},
   "source": [
    "# Navigating parse tree"
   ]
  },
  {
   "cell_type": "code",
   "execution_count": 16,
   "id": "21f94968",
   "metadata": {},
   "outputs": [
    {
     "data": {
      "text/plain": [
       "<p class=\"paragraph\">This is a paragraph.</p>"
      ]
     },
     "execution_count": 16,
     "metadata": {},
     "output_type": "execute_result"
    }
   ],
   "source": [
    "# Tag navigation\n",
    "paragraph=soup.find('p')\n",
    "paragraph"
   ]
  },
  {
   "cell_type": "code",
   "execution_count": 43,
   "id": "c78d9347",
   "metadata": {},
   "outputs": [
    {
     "data": {
      "text/plain": [
       "[<p class=\"paragraph\">This is a paragraph.</p>,\n",
       " <p class=\"paragraph\">This is a paragraph 2.</p>]"
      ]
     },
     "execution_count": 43,
     "metadata": {},
     "output_type": "execute_result"
    }
   ],
   "source": [
    "paragraphs=soup.find_all('p').text\n",
    "paragraphs"
   ]
  },
  {
   "cell_type": "code",
   "execution_count": 20,
   "id": "4c16580a",
   "metadata": {},
   "outputs": [],
   "source": [
    "# Parent and sibling navigation\n"
   ]
  },
  {
   "cell_type": "code",
   "execution_count": 44,
   "id": "30bff6df",
   "metadata": {},
   "outputs": [],
   "source": [
    "from bs4 import BeautifulSoup\n",
    "\n",
    "html_doc = '''\n",
    "<html>\n",
    "<body>\n",
    "    <div class='my_class'>\n",
    "        <h1>Welcome to BeautifulSoup</h1>\n",
    "        <p>This is an example paragraph.</p>\n",
    "        <ul>\n",
    "            <li>Item 1</li>\n",
    "            <li>Item 2</li>\n",
    "            <li>Item 3</li>\n",
    "        </ul>\n",
    "    </div>\n",
    "</body>\n",
    "</html>\n",
    "'''\n",
    "# parser object\n",
    "soup = BeautifulSoup(html_doc, 'html.parser')"
   ]
  },
  {
   "cell_type": "code",
   "execution_count": 45,
   "id": "749becce",
   "metadata": {},
   "outputs": [
    {
     "name": "stdout",
     "output_type": "stream",
     "text": [
      "Parent element of <h1>:\n",
      "<div class=\"my_class\">\n",
      "<h1>Welcome to BeautifulSoup</h1>\n",
      "<p>This is an example paragraph.</p>\n",
      "<ul>\n",
      "<li>Item 1</li>\n",
      "<li>Item 2</li>\n",
      "<li>Item 3</li>\n",
      "</ul>\n",
      "</div>\n"
     ]
    }
   ],
   "source": [
    "# Accessing parent element\n",
    "h1 = soup.h1\n",
    "parent_div = h1.parent\n",
    "print('Parent element of <h1>:')\n",
    "print(parent_div)"
   ]
  },
  {
   "cell_type": "code",
   "execution_count": 25,
   "id": "05463ead",
   "metadata": {},
   "outputs": [
    {
     "name": "stdout",
     "output_type": "stream",
     "text": [
      "Previous sibling element of <p>:\n",
      "<h1>Welcome to BeautifulSoup</h1>\n"
     ]
    }
   ],
   "source": [
    "# Accessing previous sibling element\n",
    "paragraph = soup.p\n",
    "previous_sibling = paragraph.find_previous_sibling()\n",
    "print('Previous sibling element of <p>:')\n",
    "print(previous_sibling)"
   ]
  },
  {
   "cell_type": "code",
   "execution_count": 26,
   "id": "cf399445",
   "metadata": {},
   "outputs": [
    {
     "name": "stdout",
     "output_type": "stream",
     "text": [
      "Next sibling element of <ul>:\n",
      "None\n"
     ]
    }
   ],
   "source": [
    "# Accessing next sibling element\n",
    "ul = soup.ul\n",
    "next_sibling = ul.find_next_sibling\n",
    "print('Next sibling element of <ul>:')\n",
    "print(next_sibling)"
   ]
  },
  {
   "cell_type": "markdown",
   "id": "6c597840",
   "metadata": {},
   "source": [
    "# Child navigation"
   ]
  },
  {
   "cell_type": "code",
   "execution_count": 28,
   "id": "7b3d01d8",
   "metadata": {},
   "outputs": [
    {
     "name": "stdout",
     "output_type": "stream",
     "text": [
      "Child elements of <div>:\n",
      "\n",
      "\n",
      "<h1>Welcome to BeautifulSoup</h1>\n",
      "\n",
      "\n",
      "<p>This is an example paragraph.</p>\n",
      "\n",
      "\n",
      "<ul>\n",
      "<li>Item 1</li>\n",
      "<li>Item 2</li>\n",
      "<li>Item 3</li>\n",
      "</ul>\n",
      "\n",
      "\n"
     ]
    }
   ],
   "source": [
    "# Accessing child elements\n",
    "div = soup.div\n",
    "children = div.children\n",
    "\n",
    "print('Child elements of <div>:')\n",
    "for child in children:\n",
    "    print(child)\n"
   ]
  },
  {
   "cell_type": "code",
   "execution_count": 34,
   "id": "acaa152b",
   "metadata": {},
   "outputs": [
    {
     "data": {
      "text/plain": [
       "[<div class=\"my_class\">\n",
       " <h1>Welcome to BeautifulSoup</h1>\n",
       " <p>This is an example paragraph.</p>\n",
       " <ul>\n",
       " <li>Item 1</li>\n",
       " <li>Item 2</li>\n",
       " <li>Item 3</li>\n",
       " </ul>\n",
       " </div>]"
      ]
     },
     "execution_count": 34,
     "metadata": {},
     "output_type": "execute_result"
    }
   ],
   "source": [
    "# Searching by CSS and Class attributes\n",
    "elements = soup.find_all('div', class_='my_class')\n",
    "elements"
   ]
  },
  {
   "cell_type": "code",
   "execution_count": null,
   "id": "89accfcf",
   "metadata": {},
   "outputs": [],
   "source": []
  }
 ],
 "metadata": {
  "kernelspec": {
   "display_name": "Python 3 (ipykernel)",
   "language": "python",
   "name": "python3"
  },
  "language_info": {
   "codemirror_mode": {
    "name": "ipython",
    "version": 3
   },
   "file_extension": ".py",
   "mimetype": "text/x-python",
   "name": "python",
   "nbconvert_exporter": "python",
   "pygments_lexer": "ipython3",
   "version": "3.8.16"
  }
 },
 "nbformat": 4,
 "nbformat_minor": 5
}

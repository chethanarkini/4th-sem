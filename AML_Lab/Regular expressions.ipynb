{
 "cells": [
  {
   "cell_type": "code",
   "execution_count": 6,
   "id": "0e040767",
   "metadata": {},
   "outputs": [],
   "source": [
    "import re\n",
    "import requests"
   ]
  },
  {
   "cell_type": "code",
   "execution_count": 7,
   "id": "eef6de7b",
   "metadata": {},
   "outputs": [],
   "source": [
    "# Function to scrape website content using regular expressions\n",
    "def scrape_website(url, pattern):\n",
    "    # Send a GET request to the specified URL\n",
    "    response = requests.get(url)\n",
    "\n",
    "    # Check if the request was successful\n",
    "    if response.status_code == 200:\n",
    "        # Extract the HTML content from the response\n",
    "        html_content = response.text\n",
    "\n",
    "        # Use regular expressions to find matches based on the pattern\n",
    "        matches = re.findall(pattern, html_content)\n",
    "\n",
    "        # Print the matches\n",
    "        for match in matches:\n",
    "            print(match)\n",
    "    else:\n",
    "        print(\"Error: Failed to retrieve website content.\")"
   ]
  },
  {
   "cell_type": "code",
   "execution_count": 8,
   "id": "28b9c148",
   "metadata": {},
   "outputs": [
    {
     "name": "stdout",
     "output_type": "stream",
     "text": [
      "OpenAI - Wikipedia\n"
     ]
    }
   ],
   "source": [
    "# Example usage: Scraping page titles from a Wikipedia article\n",
    "url = \"https://en.wikipedia.org/wiki/OpenAI\"\n",
    "pattern = r\"<title>(.*?)</title>\"\n",
    "\n",
    "# Call the scraping function\n",
    "scrape_website(url, pattern)\n"
   ]
  },
  {
   "cell_type": "code",
   "execution_count": 10,
   "id": "28bf45d5",
   "metadata": {},
   "outputs": [
    {
     "name": "stdout",
     "output_type": "stream",
     "text": [
      "/static/images/icons/wikipedia.png\n",
      "//upload.wikimedia.org/wikipedia/en/thumb/1/1b/Semi-protection-shackle.svg/20px-Semi-protection-shackle.svg.png\n",
      "//upload.wikimedia.org/wikipedia/commons/thumb/4/4d/OpenAI_Logo.svg/250px-OpenAI_Logo.svg.png\n",
      "//upload.wikimedia.org/wikipedia/commons/thumb/3/33/Pioneer_Building%2C_San_Francisco_%282019%29_-1.jpg/275px-Pioneer_Building%2C_San_Francisco_%282019%29_-1.jpg\n",
      "//upload.wikimedia.org/wikipedia/en/thumb/8/8a/OOjs_UI_icon_edit-ltr-progressive.svg/10px-OOjs_UI_icon_edit-ltr-progressive.svg.png\n",
      "//upload.wikimedia.org/wikipedia/commons/thumb/1/1c/Artificial_intelligence_prompt_completion_by_dalle_mini.jpg/150px-Artificial_intelligence_prompt_completion_by_dalle_mini.jpg\n",
      "//upload.wikimedia.org/wikipedia/commons/thumb/5/56/Disrupt_SF_TechCrunch_Disrupt_San_Francisco_2019_-_Day_2_%2848838377432%29.jpg/220px-Disrupt_SF_TechCrunch_Disrupt_San_Francisco_2019_-_Day_2_%2848838377432%29.jpg\n",
      "//upload.wikimedia.org/wikipedia/commons/thumb/9/91/Full_GPT_architecture.png/220px-Full_GPT_architecture.png\n",
      "//upload.wikimedia.org/wikipedia/commons/thumb/a/ad/GPT2-talks-about-GPT2.png/220px-GPT2-talks-about-GPT2.png\n",
      "//upload.wikimedia.org/wikipedia/commons/thumb/a/a3/DALL-E_sample.png/300px-DALL-E_sample.png\n",
      "//upload.wikimedia.org/wikipedia/en/thumb/8/8a/OOjs_UI_icon_edit-ltr-progressive.svg/10px-OOjs_UI_icon_edit-ltr-progressive.svg.png\n",
      "//upload.wikimedia.org/wikipedia/en/thumb/9/96/Symbol_category_class.svg/16px-Symbol_category_class.svg.png\n",
      "//upload.wikimedia.org/wikipedia/en/thumb/4/4a/Commons-logo.svg/12px-Commons-logo.svg.png\n",
      "//upload.wikimedia.org/wikipedia/en/thumb/e/e2/Symbol_portal_class.svg/16px-Symbol_portal_class.svg.png\n",
      "//upload.wikimedia.org/wikipedia/en/thumb/9/96/Symbol_category_class.svg/16px-Symbol_category_class.svg.png\n",
      "//upload.wikimedia.org/wikipedia/en/thumb/9/96/Symbol_category_class.svg/16px-Symbol_category_class.svg.png\n",
      "//upload.wikimedia.org/wikipedia/commons/thumb/4/49/Elon_Musk_2015.jpg/80px-Elon_Musk_2015.jpg\n",
      "//upload.wikimedia.org/wikipedia/en/thumb/9/96/Symbol_category_class.svg/16px-Symbol_category_class.svg.png\n",
      "//upload.wikimedia.org/wikipedia/commons/thumb/2/2a/Industry5.svg/19px-Industry5.svg.png\n",
      "//upload.wikimedia.org/wikipedia/commons/thumb/0/01/Flag_of_California.svg/21px-Flag_of_California.svg.png\n",
      "//upload.wikimedia.org/wikipedia/en/thumb/8/8a/OOjs_UI_icon_edit-ltr-progressive.svg/10px-OOjs_UI_icon_edit-ltr-progressive.svg.png\n",
      "//en.wikipedia.org/wiki/Special:CentralAutoLogin/start?type=1x1\n",
      "/static/images/footer/wikimedia-button.png\n",
      "/static/images/footer/poweredby_mediawiki_88x31.png\n"
     ]
    }
   ],
   "source": [
    "import re\n",
    "import requests\n",
    "\n",
    "# Function to scrape website content using regular expressions\n",
    "def scrape_website(url, pattern):\n",
    "    # Send a GET request to the specified URL\n",
    "    response = requests.get(url)\n",
    "\n",
    "    # Check if the request was successful\n",
    "    if response.status_code == 200:\n",
    "        # Extract the HTML content from the response\n",
    "        html_content = response.text\n",
    "\n",
    "        # Use regular expressions to find matches based on the pattern\n",
    "        matches = re.findall(pattern, html_content)\n",
    "\n",
    "        # Print the matches\n",
    "        for match in matches:\n",
    "            print(match)\n",
    "    else:\n",
    "        print(\"Error: Failed to retrieve website content.\")\n",
    "\n",
    "# Example usage: Scraping image URLs from a webpage\n",
    "url = \"https://en.wikipedia.org/wiki/OpenAI\"  # Replace with your desired URL\n",
    "pattern = r'<img.+?src=\"([^\"]+)\"'  # Pattern to match image URLs\n",
    "\n",
    "# Call the scraping function\n",
    "scrape_website(url, pattern)\n"
   ]
  },
  {
   "cell_type": "code",
   "execution_count": 11,
   "id": "a1f0811d",
   "metadata": {},
   "outputs": [],
   "source": []
  },
  {
   "cell_type": "code",
   "execution_count": null,
   "id": "ef1be781",
   "metadata": {},
   "outputs": [],
   "source": []
  }
 ],
 "metadata": {
  "kernelspec": {
   "display_name": "Python 3 (ipykernel)",
   "language": "python",
   "name": "python3"
  },
  "language_info": {
   "codemirror_mode": {
    "name": "ipython",
    "version": 3
   },
   "file_extension": ".py",
   "mimetype": "text/x-python",
   "name": "python",
   "nbconvert_exporter": "python",
   "pygments_lexer": "ipython3",
   "version": "3.8.16"
  }
 },
 "nbformat": 4,
 "nbformat_minor": 5
}
